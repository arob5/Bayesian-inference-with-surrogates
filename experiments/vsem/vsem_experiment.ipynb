{
 "cells": [
  {
   "cell_type": "code",
   "execution_count": 3,
   "id": "6813ada0",
   "metadata": {},
   "outputs": [],
   "source": [
    "import numpy as np\n",
    "import matplotlib.pyplot as plt\n",
    "from IPython.display import display\n",
    "from dataclasses import dataclass\n",
    "from scipy.stats import multivariate_normal as mvn\n",
    "\n",
    "import vsem\n",
    "from vsem_inv_prob import InvProb"
   ]
  },
  {
   "cell_type": "code",
   "execution_count": null,
   "id": "6ec91e83",
   "metadata": {},
   "outputs": [],
   "source": [
    "rng = np.random.default_rng(6435)\n",
    "\n",
    "class TestPrior:\n",
    "    def __init__(self, rng, dim: int):\n",
    "        self.rng = rng\n",
    "        self._dim = dim\n",
    "\n",
    "    @property\n",
    "    def dim(self):\n",
    "        return self._dim\n",
    "\n",
    "    def sample(self, n=1):\n",
    "        samp = self.rng.uniform(size=(n, self.dim))\n",
    "\n",
    "        if n == 1:\n",
    "            return samp[0,:]\n",
    "        else:\n",
    "            return samp \n",
    "\n",
    "    def log_density(self, x):\n",
    "        if x.ndim == 1:\n",
    "            x = x.reshape(1, -1)\n",
    "\n",
    "        return np.zeros(x.shape[0])\n",
    "\n",
    "\n",
    "class TestLikelihood:\n",
    "    def __init__(self, dim):\n",
    "        self._dist = mvn(np.zeros(dim))\n",
    "\n",
    "    def log_density(self, x):\n",
    "        return self._dist.logpdf(x)"
   ]
  },
  {
   "cell_type": "code",
   "execution_count": 24,
   "id": "2b5ce377",
   "metadata": {},
   "outputs": [],
   "source": [
    "d = 2\n",
    "prior = TestPrior(rng, d)\n",
    "likelihood = TestLikelihood(d)"
   ]
  },
  {
   "cell_type": "code",
   "execution_count": 25,
   "id": "f915dc78",
   "metadata": {},
   "outputs": [],
   "source": [
    "inv_prob = InvProb(rng, prior, likelihood)"
   ]
  },
  {
   "cell_type": "code",
   "execution_count": 37,
   "id": "603c6555",
   "metadata": {},
   "outputs": [
    {
     "data": {
      "text/plain": [
       "(1, 2)"
      ]
     },
     "execution_count": 37,
     "metadata": {},
     "output_type": "execute_result"
    }
   ],
   "source": [
    "inv_prob.sampler._current_state.primary[\"u\"].shape"
   ]
  },
  {
   "cell_type": "code",
   "execution_count": 27,
   "id": "c8e9f19e",
   "metadata": {},
   "outputs": [
    {
     "ename": "ValueError",
     "evalue": "shapes of a (2, 2) and b (1, 2) are incompatible",
     "output_type": "error",
     "traceback": [
      "\u001b[31m---------------------------------------------------------------------------\u001b[39m",
      "\u001b[31mValueError\u001b[39m                                Traceback (most recent call last)",
      "\u001b[36mCell\u001b[39m\u001b[36m \u001b[39m\u001b[32mIn[27]\u001b[39m\u001b[32m, line 1\u001b[39m\n\u001b[32m----> \u001b[39m\u001b[32m1\u001b[39m test = inv_prob.sample_posterior(n_samp=\u001b[32m10000\u001b[39m)\n",
      "\u001b[36mFile \u001b[39m\u001b[32m~/Desktop/git-repos/bip-surrogates-paper/experiments/vsem/vsem_inv_prob.py:84\u001b[39m, in \u001b[36msample_posterior\u001b[39m\u001b[34m(self, n_samp, sampler_kwargs, plot_kwargs)\u001b[39m\n\u001b[32m     82\u001b[39m \u001b[38;5;28;01mif\u001b[39;00m sampler_kwargs \u001b[38;5;129;01mis\u001b[39;00m \u001b[38;5;28;01mNone\u001b[39;00m:\n\u001b[32m     83\u001b[39m     sampler_kwargs = {}\n\u001b[32m---> \u001b[39m\u001b[32m84\u001b[39m \u001b[38;5;28;01mif\u001b[39;00m plot_kwargs \u001b[38;5;129;01mis\u001b[39;00m \u001b[38;5;28;01mNone\u001b[39;00m:\n\u001b[32m     85\u001b[39m     plot_kwargs = {}\n\u001b[32m     87\u001b[39m \u001b[38;5;28mself\u001b[39m.sampler.sample(num_steps=\u001b[32m2\u001b[39m*n_samp, **sampler_kwargs)\n",
      "\u001b[36mFile \u001b[39m\u001b[32m~/Desktop/git-repos/modmcmc/src/modmcmc/samplers.py:102\u001b[39m, in \u001b[36mMCMCSampler.sample\u001b[39m\u001b[34m(self, num_steps, progressbar, overwrite, resume)\u001b[39m\n\u001b[32m     99\u001b[39m     iterator = \u001b[38;5;28mrange\u001b[39m(start_idx, num_steps)\n\u001b[32m    101\u001b[39m \u001b[38;5;28;01mfor\u001b[39;00m i \u001b[38;5;129;01min\u001b[39;00m iterator:\n\u001b[32m--> \u001b[39m\u001b[32m102\u001b[39m     new_state = \u001b[38;5;28mself\u001b[39m.step()\n\u001b[32m    103\u001b[39m     \u001b[38;5;28mself\u001b[39m._current_state = new_state\n\u001b[32m    104\u001b[39m     \u001b[38;5;28mself\u001b[39m.trace.append(new_state.copy_with(clear_cache=\u001b[38;5;28;01mTrue\u001b[39;00m))\n",
      "\u001b[36mFile \u001b[39m\u001b[32m~/Desktop/git-repos/modmcmc/src/modmcmc/samplers.py:127\u001b[39m, in \u001b[36mBlockMCMCSampler.step\u001b[39m\u001b[34m(self)\u001b[39m\n\u001b[32m    124\u001b[39m current_state = \u001b[38;5;28mself\u001b[39m.current_state.copy_with(clear_cache=\u001b[38;5;28;01mFalse\u001b[39;00m)\n\u001b[32m    126\u001b[39m \u001b[38;5;28;01mfor\u001b[39;00m kernel \u001b[38;5;129;01min\u001b[39;00m \u001b[38;5;28mself\u001b[39m.kernels:\n\u001b[32m--> \u001b[39m\u001b[32m127\u001b[39m     current_state = kernel.step(current_state)\n\u001b[32m    129\u001b[39m \u001b[38;5;28;01mreturn\u001b[39;00m current_state\n",
      "\u001b[36mFile \u001b[39m\u001b[32m~/Desktop/git-repos/modmcmc/src/modmcmc/kernels.py:272\u001b[39m, in \u001b[36mMetropolisKernel.step\u001b[39m\u001b[34m(self, state)\u001b[39m\n\u001b[32m    269\u001b[39m log_p_new = \u001b[38;5;28mself\u001b[39m.target(candidate, term_names=\u001b[38;5;28mself\u001b[39m.term_subset)\n\u001b[32m    271\u001b[39m \u001b[38;5;28;01mif\u001b[39;00m \u001b[38;5;28mself\u001b[39m.acc_ratio_includes_prop:\n\u001b[32m--> \u001b[39m\u001b[32m272\u001b[39m     log_q_fwd = \u001b[38;5;28mself\u001b[39m.proposal.log_p(new_block, old_block)\n\u001b[32m    273\u001b[39m     log_q_back = \u001b[38;5;28mself\u001b[39m.proposal.log_p(old_block, new_block)\n\u001b[32m    274\u001b[39m \u001b[38;5;28;01melse\u001b[39;00m:\n",
      "\u001b[36mFile \u001b[39m\u001b[32m~/Desktop/git-repos/modmcmc/src/modmcmc/kernels.py:170\u001b[39m, in \u001b[36mGaussianProposal.log_p\u001b[39m\u001b[34m(self, old_block, new_block)\u001b[39m\n\u001b[32m    167\u001b[39m old_arr = \u001b[38;5;28mnext\u001b[39m(\u001b[38;5;28miter\u001b[39m(old_block.values())) \u001b[38;5;66;03m# Extract first value.\u001b[39;00m\n\u001b[32m    168\u001b[39m new_arr = \u001b[38;5;28mnext\u001b[39m(\u001b[38;5;28miter\u001b[39m(new_block.values()))\n\u001b[32m--> \u001b[39m\u001b[32m170\u001b[39m \u001b[38;5;28;01mreturn\u001b[39;00m mvn_logpdf(x=new_arr, mean=old_arr, L=\u001b[38;5;28mself\u001b[39m.chol)\n",
      "\u001b[36mFile \u001b[39m\u001b[32m~/Desktop/git-repos/modmcmc/src/modmcmc/kernels.py:32\u001b[39m, in \u001b[36mmvn_logpdf\u001b[39m\u001b[34m(x, mean, L)\u001b[39m\n\u001b[32m     29\u001b[39m d = x.shape[\u001b[32m0\u001b[39m]\n\u001b[32m     31\u001b[39m \u001b[38;5;66;03m# solve L z = y to obtain z = L^{-1} y, where y=x-mean.\u001b[39;00m\n\u001b[32m---> \u001b[39m\u001b[32m32\u001b[39m z = solve_triangular(L, x-mean, lower=\u001b[38;5;28;01mTrue\u001b[39;00m, check_finite=\u001b[38;5;28;01mFalse\u001b[39;00m)\n\u001b[32m     34\u001b[39m \u001b[38;5;66;03m# Quadratic term.\u001b[39;00m\n\u001b[32m     35\u001b[39m quad_term = np.dot(z, z)\n",
      "\u001b[36mFile \u001b[39m\u001b[32m/opt/miniconda3/envs/modmcmc-dev/lib/python3.13/site-packages/scipy/_lib/_util.py:1226\u001b[39m, in \u001b[36m_apply_over_batch.<locals>.decorator.<locals>.wrapper\u001b[39m\u001b[34m(*args, **kwargs)\u001b[39m\n\u001b[32m   1224\u001b[39m \u001b[38;5;66;03m# Early exit if call is not batched\u001b[39;00m\n\u001b[32m   1225\u001b[39m \u001b[38;5;28;01mif\u001b[39;00m \u001b[38;5;129;01mnot\u001b[39;00m \u001b[38;5;28many\u001b[39m(batch_shapes):\n\u001b[32m-> \u001b[39m\u001b[32m1226\u001b[39m     \u001b[38;5;28;01mreturn\u001b[39;00m f(*arrays, *other_args, **kwargs)\n\u001b[32m   1228\u001b[39m \u001b[38;5;66;03m# Determine broadcasted batch shape\u001b[39;00m\n\u001b[32m   1229\u001b[39m batch_shape = np.broadcast_shapes(*batch_shapes)  \u001b[38;5;66;03m# Gives OK error message\u001b[39;00m\n",
      "\u001b[36mFile \u001b[39m\u001b[32m/opt/miniconda3/envs/modmcmc-dev/lib/python3.13/site-packages/scipy/linalg/_basic.py:496\u001b[39m, in \u001b[36msolve_triangular\u001b[39m\u001b[34m(a, b, trans, lower, unit_diagonal, overwrite_b, check_finite)\u001b[39m\n\u001b[32m    493\u001b[39m     \u001b[38;5;28;01mraise\u001b[39;00m \u001b[38;5;167;01mValueError\u001b[39;00m(\u001b[33m'\u001b[39m\u001b[33mexpected square matrix\u001b[39m\u001b[33m'\u001b[39m)\n\u001b[32m    495\u001b[39m \u001b[38;5;28;01mif\u001b[39;00m a1.shape[\u001b[32m0\u001b[39m] != b1.shape[\u001b[32m0\u001b[39m]:\n\u001b[32m--> \u001b[39m\u001b[32m496\u001b[39m     \u001b[38;5;28;01mraise\u001b[39;00m \u001b[38;5;167;01mValueError\u001b[39;00m(\u001b[33mf\u001b[39m\u001b[33m'\u001b[39m\u001b[33mshapes of a \u001b[39m\u001b[38;5;132;01m{\u001b[39;00ma1.shape\u001b[38;5;132;01m}\u001b[39;00m\u001b[33m and b \u001b[39m\u001b[38;5;132;01m{\u001b[39;00mb1.shape\u001b[38;5;132;01m}\u001b[39;00m\u001b[33m are incompatible\u001b[39m\u001b[33m'\u001b[39m)\n\u001b[32m    498\u001b[39m \u001b[38;5;66;03m# accommodate empty arrays\u001b[39;00m\n\u001b[32m    499\u001b[39m \u001b[38;5;28;01mif\u001b[39;00m b1.size == \u001b[32m0\u001b[39m:\n",
      "\u001b[31mValueError\u001b[39m: shapes of a (2, 2) and b (1, 2) are incompatible"
     ]
    }
   ],
   "source": [
    "test = inv_prob.sample_posterior(n_samp=10000)"
   ]
  }
 ],
 "metadata": {
  "kernelspec": {
   "display_name": "modmcmc-dev",
   "language": "python",
   "name": "python3"
  },
  "language_info": {
   "codemirror_mode": {
    "name": "ipython",
    "version": 3
   },
   "file_extension": ".py",
   "mimetype": "text/x-python",
   "name": "python",
   "nbconvert_exporter": "python",
   "pygments_lexer": "ipython3",
   "version": "3.13.5"
  }
 },
 "nbformat": 4,
 "nbformat_minor": 5
}
