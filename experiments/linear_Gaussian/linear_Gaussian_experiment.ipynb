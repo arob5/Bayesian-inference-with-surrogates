{
 "cells": [
  {
   "cell_type": "code",
   "execution_count": 1,
   "id": "28154105-5f48-43a9-b647-4a3ff706839f",
   "metadata": {},
   "outputs": [],
   "source": [
    "import numpy as np\n",
    "import matplotlib.pyplot as plt\n",
    "from scipy.stats import multivariate_normal as mvn\n",
    "\n",
    "from Gaussian import Gaussian"
   ]
  },
  {
   "cell_type": "code",
   "execution_count": 2,
   "id": "f9e373f7-ea82-48e3-a5f7-cda0dfbbe26f",
   "metadata": {},
   "outputs": [
    {
     "name": "stdout",
     "output_type": "stream",
     "text": [
      "[0.]\n",
      "[[1.]]\n",
      "[[1.]]\n",
      "[[ 1.78669461]\n",
      " [ 0.19547627]\n",
      " [ 0.3552621 ]\n",
      " [ 1.83910995]\n",
      " [-1.40367381]\n",
      " [ 0.97199689]\n",
      " [-0.51387928]\n",
      " [-0.23439697]\n",
      " [-0.09618533]\n",
      " [ 0.71775747]]\n",
      "[-2.51507736 -0.93804402 -0.98204411 -2.61010123 -1.90408862 -1.39132751\n",
      " -1.05097449 -0.9464095  -0.92356434 -1.17652643]\n"
     ]
    }
   ],
   "source": [
    "# Standard univariate Gaussian\n",
    "test = Gaussian()\n",
    "samp = test.sample(num_samp=10)\n",
    "dens = test.log_p(samp)\n",
    "\n",
    "print(test.mean)\n",
    "print(test.cov)\n",
    "print(test.chol)\n",
    "print(samp)\n",
    "print(dens)"
   ]
  },
  {
   "cell_type": "code",
   "execution_count": 3,
   "id": "3aff1460-f669-483b-a20b-d753d2ced017",
   "metadata": {},
   "outputs": [
    {
     "name": "stdout",
     "output_type": "stream",
     "text": [
      "mean:\n",
      "[1. 1. 1. 1.]\n",
      "cov:\n",
      "[[1. 0. 0. 0.]\n",
      " [0. 1. 0. 0.]\n",
      " [0. 0. 1. 0.]\n",
      " [0. 0. 0. 1.]]\n",
      "chol:\n",
      "[[1. 0. 0. 0.]\n",
      " [0. 1. 0. 0.]\n",
      " [0. 0. 1. 0.]\n",
      " [0. 0. 0. 1.]]\n",
      "samp:\n",
      "[[ 0.44102502  0.93437041  0.0856466   1.65491164]\n",
      " [ 0.77768939  2.46781746  1.14002705  0.15123346]\n",
      " [ 0.41905295 -0.34498954  2.15716576 -0.37302543]]\n",
      "dens:\n",
      "[-4.46660997 -5.14771529 -6.36111801]\n"
     ]
    }
   ],
   "source": [
    "# Multivariate Gaussian\n",
    "x = Gaussian(mean = np.ones(4), store=\"cov\")\n",
    "samp = x.sample(num_samp=3)\n",
    "dens = x.log_p(samp)\n",
    "\n",
    "\n",
    "print(\"mean:\")\n",
    "print(x.mean)\n",
    "print(\"cov:\")\n",
    "print(x.cov)\n",
    "print(\"chol:\")\n",
    "print(x.chol)\n",
    "print(\"samp:\")\n",
    "print(samp)\n",
    "print(\"dens:\")\n",
    "print(dens)"
   ]
  },
  {
   "cell_type": "code",
   "execution_count": 11,
   "id": "3a146274-e8d2-433a-a860-f66d7211e36f",
   "metadata": {},
   "outputs": [],
   "source": [
    "# Test against scipy.\n",
    "L = np.random.normal(size=(10,10))\n",
    "C = L @ L.T\n",
    "m = np.random.normal(size=10)\n",
    "x_sp = mvn(mean=m, cov=C)\n",
    "\n",
    "# From Cholesky factor.\n",
    "x1 = Gaussian(mean=m, chol=L)\n",
    "\n",
    "# From covariance.\n",
    "x2 = Gaussian(mean=m, cov=C)"
   ]
  },
  {
   "cell_type": "code",
   "execution_count": 15,
   "id": "97c61172-b078-4c75-affa-f337ad71e3a2",
   "metadata": {},
   "outputs": [
    {
     "ename": "AttributeError",
     "evalue": "'Gaussian' object has no attribute 'mean'",
     "output_type": "error",
     "traceback": [
      "\u001b[31m---------------------------------------------------------------------------\u001b[39m",
      "\u001b[31mAttributeError\u001b[39m                            Traceback (most recent call last)",
      "\u001b[36mCell\u001b[39m\u001b[36m \u001b[39m\u001b[32mIn[15]\u001b[39m\u001b[32m, line 4\u001b[39m\n\u001b[32m      2\u001b[39m n_samp = \u001b[32m10000\u001b[39m\n\u001b[32m      3\u001b[39m samp_sp = x_sp.rvs(size=n_samp)\n\u001b[32m----> \u001b[39m\u001b[32m4\u001b[39m samp_x1 = x1.sample(n_samp)\n\u001b[32m      5\u001b[39m samp_x2 = x2.sample(n_samp)\n",
      "\u001b[36mFile \u001b[39m\u001b[32m~/Desktop/git-repos/bip-surrogates-paper/experiments/linear_Gaussian/Gaussian.py:94\u001b[39m, in \u001b[36mGaussian.sample\u001b[39m\u001b[34m(self, num_samp)\u001b[39m\n\u001b[32m     89\u001b[39m \u001b[38;5;28;01mdef\u001b[39;00m\u001b[38;5;250m \u001b[39m\u001b[34msample\u001b[39m(\u001b[38;5;28mself\u001b[39m, num_samp: \u001b[38;5;28mint\u001b[39m = \u001b[32m1\u001b[39m) -> np.ndarray:\n\u001b[32m     90\u001b[39m \u001b[38;5;250m    \u001b[39m\u001b[33;03m\"\"\"\u001b[39;00m\n\u001b[32m     91\u001b[39m \u001b[33;03m    Returns (num_samp, dim) array containing `num_samp` iid samples from\u001b[39;00m\n\u001b[32m     92\u001b[39m \u001b[33;03m    the Gaussian stacked in the rows of the array.\u001b[39;00m\n\u001b[32m     93\u001b[39m \u001b[33;03m    \"\"\"\u001b[39;00m\n\u001b[32m---> \u001b[39m\u001b[32m94\u001b[39m     \u001b[38;5;28;01mreturn\u001b[39;00m \u001b[38;5;28mself\u001b[39m.mean + \u001b[38;5;28mself\u001b[39m.rng.normal(size=(num_samp, \u001b[38;5;28mself\u001b[39m.dim)) @ \u001b[38;5;28mself\u001b[39m.chol\n",
      "\u001b[31mAttributeError\u001b[39m: 'Gaussian' object has no attribute 'mean'"
     ]
    }
   ],
   "source": [
    "# Samples\n",
    "n_samp = 10000\n",
    "samp_sp = x_sp.rvs(size=n_samp)\n",
    "samp_x1 = x1.sample(n_samp)\n",
    "samp_x2 = x2.sample(n_samp)"
   ]
  },
  {
   "cell_type": "code",
   "execution_count": 14,
   "id": "ea0ae908-10b5-4db7-8671-b388f52a0a66",
   "metadata": {},
   "outputs": [
    {
     "data": {
      "text/plain": [
       "(10000, 10)"
      ]
     },
     "execution_count": 14,
     "metadata": {},
     "output_type": "execute_result"
    }
   ],
   "source": [
    "samp_sp.shape"
   ]
  }
 ],
 "metadata": {
  "kernelspec": {
   "display_name": "Python 3 (ipykernel)",
   "language": "python",
   "name": "python3"
  },
  "language_info": {
   "codemirror_mode": {
    "name": "ipython",
    "version": 3
   },
   "file_extension": ".py",
   "mimetype": "text/x-python",
   "name": "python",
   "nbconvert_exporter": "python",
   "pygments_lexer": "ipython3",
   "version": "3.13.5"
  }
 },
 "nbformat": 4,
 "nbformat_minor": 5
}
