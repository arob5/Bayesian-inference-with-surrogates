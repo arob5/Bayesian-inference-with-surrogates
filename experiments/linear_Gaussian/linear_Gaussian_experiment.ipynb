{
 "cells": [
  {
   "cell_type": "code",
   "execution_count": 1,
   "id": "28154105-5f48-43a9-b647-4a3ff706839f",
   "metadata": {},
   "outputs": [],
   "source": [
    "import numpy as np\n",
    "import matplotlib.pyplot as plt\n",
    "\n",
    "from Gaussian import Gaussian"
   ]
  },
  {
   "cell_type": "code",
   "execution_count": 2,
   "id": "f9e373f7-ea82-48e3-a5f7-cda0dfbbe26f",
   "metadata": {},
   "outputs": [
    {
     "name": "stdout",
     "output_type": "stream",
     "text": [
      "[0.]\n",
      "[[1.]]\n",
      "[[1.]]\n",
      "[[-1.0846114 ]\n",
      " [-0.93948803]\n",
      " [-0.65112574]\n",
      " [ 0.36127677]\n",
      " [ 0.1762524 ]\n",
      " [ 1.17868363]\n",
      " [-0.2732403 ]\n",
      " [ 0.66546057]\n",
      " [-0.48872357]\n",
      " [ 1.4993845 ]]\n",
      "[-1.50712948 -1.36025741 -1.1309209  -0.98419899 -0.93447099 -1.61358608\n",
      " -0.95626867 -1.14035742 -1.0383639  -2.04301547]\n"
     ]
    }
   ],
   "source": [
    "# Standard univariate Gaussian\n",
    "test = Gaussian()\n",
    "samp = test.sample(num_samp=10)\n",
    "dens = test.log_p(samp)\n",
    "\n",
    "print(test.mean)\n",
    "print(test.cov)\n",
    "print(test.chol)\n",
    "print(samp)\n",
    "print(dens)"
   ]
  },
  {
   "cell_type": "code",
   "execution_count": 3,
   "id": "3aff1460-f669-483b-a20b-d753d2ced017",
   "metadata": {},
   "outputs": [
    {
     "name": "stdout",
     "output_type": "stream",
     "text": [
      "[1. 1. 1. 1.]\n",
      "[[1. 0. 0. 0.]\n",
      " [0. 1. 0. 0.]\n",
      " [0. 0. 1. 0.]\n",
      " [0. 0. 0. 1.]]\n",
      "[[1. 0. 0. 0.]\n",
      " [0. 1. 0. 0.]\n",
      " [0. 0. 1. 0.]\n",
      " [0. 0. 0. 1.]]\n",
      "[[ 1.15000738 -0.26937802  1.83684877  0.66887176]\n",
      " [ 2.37263941  1.61736405  0.59722798  1.78665436]\n",
      " [ 0.42978571  1.22391989  0.24888376  0.6939593 ]]\n",
      "[-4.89764641 -5.19891799 -4.19231462]\n"
     ]
    }
   ],
   "source": [
    "# Multivariate Gaussian\n",
    "x = Gaussian(mean = np.ones(4), store=\"cov\")\n",
    "samp = x.sample(num_samp=3)\n",
    "dens = x.log_p(samp)\n",
    "\n",
    "\n",
    "print(\"mean:\")\n",
    "print(x.mean)\n",
    "print(\"cov:\")\n",
    "print(x.cov)\n",
    "print(\"chol:\")\n",
    "print(x.chol)\n",
    "print(\"samp:\")\n",
    "print(samp)\n",
    "print(\"dens:\")\n",
    "print(dens)"
   ]
  }
 ],
 "metadata": {
  "kernelspec": {
   "display_name": "Python 3 (ipykernel)",
   "language": "python",
   "name": "python3"
  },
  "language_info": {
   "codemirror_mode": {
    "name": "ipython",
    "version": 3
   },
   "file_extension": ".py",
   "mimetype": "text/x-python",
   "name": "python",
   "nbconvert_exporter": "python",
   "pygments_lexer": "ipython3",
   "version": "3.13.5"
  }
 },
 "nbformat": 4,
 "nbformat_minor": 5
}
