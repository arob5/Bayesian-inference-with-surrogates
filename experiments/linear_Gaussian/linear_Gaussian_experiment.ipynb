{
 "cells": [
  {
   "cell_type": "code",
   "execution_count": 1,
   "id": "96fcfea0-3ff4-4736-8cb6-c706c78d4376",
   "metadata": {},
   "outputs": [],
   "source": [
    "import numpy as np\n",
    "import matplotlib.pyplot as plt\n",
    "from IPython.display import display\n",
    "\n",
    "from Gaussian import Gaussian\n",
    "from run_coverage_test import run_coverage_test, plot_coverage, plot_coverage_by_dim\n",
    "from LinGaussTest import LinGaussInvProb, LinGaussTest\n",
    "from helper import get_random_corr_mat\n",
    "from modmcmc import State, BlockMCMCSampler, LogDensityTerm, TargetDensity\n",
    "from modmcmc.kernels import MarkovKernel, GaussMetropolisKernel, DiscretePCNKernel, mvn_logpdf"
   ]
  },
  {
   "cell_type": "code",
   "execution_count": 2,
   "id": "e8d81b6c-f1f2-4676-a972-4ecd7376243f",
   "metadata": {},
   "outputs": [],
   "source": [
    "rng = np.random.default_rng(532124)\n",
    "d = 5  # Parameter dimension\n",
    "n = 10 # Observation dimension\n",
    "Sig_scale = 0.3\n",
    "C0_scale = 1.0\n",
    "Q_scale = 1.0\n",
    "n_reps = 1000\n",
    "\n",
    "n_plot_rows = int(max(1, np.ceil(d/4)))"
   ]
  },
  {
   "cell_type": "code",
   "execution_count": 3,
   "id": "2ab60acf-fada-4728-b559-2fd99cef78dc",
   "metadata": {},
   "outputs": [],
   "source": [
    "inv_test = LinGaussInvProb(rng, d, n, C0_scale=1.0, Sig_scale=1.0)\n",
    "Q = Q_scale**2 * get_random_corr_mat(n, rng)\n",
    "tester = LinGaussTest(inv_test, Q)"
   ]
  },
  {
   "cell_type": "code",
   "execution_count": 6,
   "id": "92e96123-390a-4bfc-acc4-ef374f77159a",
   "metadata": {},
   "outputs": [
    {
     "data": {
      "text/plain": [
       "(np.float64(3.446372138775324), np.float64(5.007925262151802))"
      ]
     },
     "execution_count": 6,
     "metadata": {},
     "output_type": "execute_result"
    }
   ],
   "source": [
    "tester.estimate_expected_kl(100000)"
   ]
  },
  {
   "cell_type": "code",
   "execution_count": 7,
   "id": "3483bb1e-caa0-41ea-a841-f568b7dbb48c",
   "metadata": {},
   "outputs": [
    {
     "data": {
      "text/plain": [
       "(np.float64(5.1041706507568945), np.float64(7.867292920428153))"
      ]
     },
     "execution_count": 7,
     "metadata": {},
     "output_type": "execute_result"
    }
   ],
   "source": [
    "tester.calc_expected_kl()"
   ]
  },
  {
   "cell_type": "code",
   "execution_count": null,
   "id": "cd8fe60f-fdc4-4c3b-9479-02d1ebda8a53",
   "metadata": {},
   "outputs": [],
   "source": [
    "inv_prob, res, probs = run_coverage_test(rng, n_reps, d, n, \n",
    "                                         Q_scale=Q_scale, Q_scaler=2,\n",
    "                                         C0_scale=C0_scale, Sig_scale=Sig_scale)"
   ]
  },
  {
   "cell_type": "code",
   "execution_count": null,
   "id": "8f0edd16-34d2-431c-b7f3-7c17b689ec83",
   "metadata": {},
   "outputs": [],
   "source": [
    "inv_prob.plot_marginals(nrows=n_plot_rows)"
   ]
  },
  {
   "cell_type": "code",
   "execution_count": null,
   "id": "aff7271e-9d11-4511-baeb-5b92a5d7b021",
   "metadata": {},
   "outputs": [],
   "source": [
    "fig_joint_cover, ax_joint_cover = plot_coverage(res[\"ep_cover_joint\"], res[\"eup_cover_joint\"], probs=probs)\n",
    "display(fig_joint_cover)"
   ]
  },
  {
   "cell_type": "code",
   "execution_count": null,
   "id": "7a13e6dc-7227-4318-883b-844b5a2e9627",
   "metadata": {},
   "outputs": [],
   "source": [
    "fig = plot_coverage_by_dim(res[\"ep_cover_univariate\"], res[\"eup_cover_univariate\"], \n",
    "                           probs, q_min=0.1, q_max=0.9, nrows=n_plot_rows)\n",
    "\n",
    "display(fig)"
   ]
  },
  {
   "cell_type": "code",
   "execution_count": null,
   "id": "a7b0b83f-2c60-4d21-b610-f61128aa9181",
   "metadata": {},
   "outputs": [],
   "source": [
    "n_bins = 30\n",
    "\n",
    "fig_kl, ax_kl = plt.subplots()\n",
    "ax_kl.hist(res[\"ep_kl\"], bins=n_bins, label=\"ep\")\n",
    "ax_kl.hist(res[\"eup_kl\"], bins=n_bins, label=\"eup\", alpha=0.5)\n",
    "ax_kl.legend()\n",
    "\n",
    "plt.show()"
   ]
  },
  {
   "cell_type": "code",
   "execution_count": null,
   "id": "f1dd6603-8fe3-4e0d-8709-9a030b750b70",
   "metadata": {},
   "outputs": [],
   "source": [
    "n_bins = 30\n",
    "\n",
    "fig_ekl, ax_ekl = plt.subplots()\n",
    "ax_ekl.hist(res[\"ep_expected_kl\"], bins=n_bins, label=\"ep\")\n",
    "ax_ekl.hist(res[\"eup_expected_kl\"], bins=n_bins, label=\"eup\", alpha=0.5)\n",
    "ax_ekl.legend()\n",
    "\n",
    "plt.show()"
   ]
  },
  {
   "cell_type": "code",
   "execution_count": null,
   "id": "f9e03e4a-d1c2-4b3c-9c6f-e245792234a5",
   "metadata": {},
   "outputs": [],
   "source": [
    "# Exact inverse problem.\n",
    "inv_prob = LinGaussInvProb(rng, d, n, C0_scale=1.0, Sig_scale=1.0)\n",
    "plt_inv_prob = inv_prob.plot_marginals()\n",
    "display(plt_inv_prob)"
   ]
  },
  {
   "cell_type": "code",
   "execution_count": null,
   "id": "f0fa8fdc-0784-4c74-9c7a-d60e2bece98f",
   "metadata": {},
   "outputs": [],
   "source": [
    "# Surrogate-based inverse problem.\n",
    "Q = Q_scale**2 * get_random_corr_mat(n, rng)\n",
    "test = LinGaussTest(inv_prob, Q)"
   ]
  },
  {
   "cell_type": "code",
   "execution_count": null,
   "id": "eaa98c9e-80d9-4bb1-8e26-dbf12ae5332c",
   "metadata": {},
   "outputs": [],
   "source": [
    "fig_coverage = test.plot_coverage()\n",
    "display(fig_coverage)"
   ]
  },
  {
   "cell_type": "code",
   "execution_count": null,
   "id": "add6b803-c325-4161-8563-1ad8c5c5491b",
   "metadata": {},
   "outputs": [],
   "source": [
    "n_samp = 50000\n",
    "fig_hist = test.get_hist_plot(n_samp)\n",
    "display(fig_hist)"
   ]
  },
  {
   "cell_type": "code",
   "execution_count": null,
   "id": "449e359d-667a-4d9a-8026-8833d5ad3333",
   "metadata": {},
   "outputs": [],
   "source": [
    "tester = test.calc_coverage()"
   ]
  },
  {
   "cell_type": "code",
   "execution_count": null,
   "id": "f5e6124e-63df-4042-bdd7-ac37bf5a16b5",
   "metadata": {},
   "outputs": [],
   "source": [
    "tester[\"ep\"].shape"
   ]
  },
  {
   "cell_type": "code",
   "execution_count": null,
   "id": "ec76c49e-f040-4fa6-b1c9-9dca1db2977b",
   "metadata": {},
   "outputs": [],
   "source": [
    "for k in tester.keys():\n",
    "    print(k)"
   ]
  },
  {
   "cell_type": "code",
   "execution_count": null,
   "id": "a51f03ee-a9ff-43af-8488-0393de97532b",
   "metadata": {},
   "outputs": [],
   "source": [
    "test.reset_samplers()\n",
    "fig_rk = test.get_hist_plot(n_samp, include=[\"ep\", \"eup\", \"rk\", \"rk-pcn\"])\n",
    "display(fig_rk)"
   ]
  },
  {
   "cell_type": "code",
   "execution_count": null,
   "id": "3d4eb29a-0d8b-44d0-bdd8-497dd119bcfc",
   "metadata": {},
   "outputs": [],
   "source": [
    "cov_scalers = [0.1, 0.5, 0.9]\n",
    "figs = []\n",
    "for s in cov_scalers:\n",
    "    test.reset_samplers()\n",
    "    test.samplers[\"rk-pcn\"].kernels[0].proposal.cov = s * test.prior.cov\n",
    "    fig = test.get_hist_plot(n_samp, include=[\"ep\", \"rk-pcn\"])\n",
    "    figs.append(fig)\n",
    "    display(fig)"
   ]
  }
 ],
 "metadata": {
  "kernelspec": {
   "display_name": "Python 3 (ipykernel)",
   "language": "python",
   "name": "python3"
  },
  "language_info": {
   "codemirror_mode": {
    "name": "ipython",
    "version": 3
   },
   "file_extension": ".py",
   "mimetype": "text/x-python",
   "name": "python",
   "nbconvert_exporter": "python",
   "pygments_lexer": "ipython3",
   "version": "3.13.5"
  }
 },
 "nbformat": 4,
 "nbformat_minor": 5
}
